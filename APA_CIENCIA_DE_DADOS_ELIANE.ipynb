{
  "nbformat": 4,
  "nbformat_minor": 0,
  "metadata": {
    "colab": {
      "provenance": [],
      "authorship_tag": "ABX9TyPSDODQWF9fEcb0I2Gqx3wd",
      "include_colab_link": true
    },
    "kernelspec": {
      "name": "python3",
      "display_name": "Python 3"
    },
    "language_info": {
      "name": "python"
    }
  },
  "cells": [
    {
      "cell_type": "markdown",
      "metadata": {
        "id": "view-in-github",
        "colab_type": "text"
      },
      "source": [
        "<a href=\"https://colab.research.google.com/github/AneFernaandes/jogo-dino-javascript-unifatecie/blob/main/APA_CIENCIA_DE_DADOS_ELIANE.ipynb\" target=\"_parent\"><img src=\"https://colab.research.google.com/assets/colab-badge.svg\" alt=\"Open In Colab\"/></a>"
      ]
    },
    {
      "cell_type": "code",
      "execution_count": null,
      "metadata": {
        "id": "tXRZVxrXai4-"
      },
      "outputs": [],
      "source": []
    },
    {
      "cell_type": "markdown",
      "source": [
        "#UNIFATECIE\n",
        "Aluno: Eliane Patricio\n",
        "Disciplina : Ciencia de Dados"
      ],
      "metadata": {
        "id": "1FpSrX8dcWM6"
      }
    },
    {
      "cell_type": "markdown",
      "source": [
        "Prezado (a) aluno (a),\n",
        "\n",
        "\n",
        "\n",
        "Proponho para essa atividade prática criarmos um cadastro no Google Colaboratory ou “Colab”, é um produto do Google Research, área de pesquisas científicas do Google, é um serviço de armazenamento em nuvem gratuito hospedado pelo próprio Google voltados à criação e execução de códigos em Python.\n",
        "\n",
        "\n",
        "\n",
        "É uma ferramenta que permite que você misture código fonte (geralmente em python) e texto (geralmente em markdown) com imagens e o resultado desse código, uma técnica conhecida como: notebook (“caderno”, em português). Vamos realizar o cadastro e aprender alguns comandos na linguagem Python para a prática."
      ],
      "metadata": {
        "id": "d6WKGnn8apRq"
      }
    },
    {
      "cell_type": "markdown",
      "source": [],
      "metadata": {
        "id": "7GG53y8tavIz"
      }
    },
    {
      "cell_type": "markdown",
      "source": [
        "#Vamos executar alguns comandos em Python (exercícios 1-7), utilizando o Colab.\n",
        "\n",
        "Para isso vamos importar as bibliotecas numpy, pandas e matplotlib\n",
        "1-) Exibir uma série que indique o número de alunos por titulação.\n"
      ],
      "metadata": {
        "id": "kBi7_JG6a7B7"
      }
    },
    {
      "cell_type": "code",
      "source": [
        "import numpy as np\n",
        "import pandas as pd\n",
        "import matplotlib.pyplot as plt\n",
        "Titulação = pd.Series(['Doutorado', 'Mestrado', 'Especialização', 'Graduação', 'Cursos Técnicos'],index=[20,15,85,145,320])\n",
        "Titulação"
      ],
      "metadata": {
        "colab": {
          "base_uri": "https://localhost:8080/",
          "height": 241
        },
        "id": "R0JbO9ZQbCLz",
        "outputId": "92438989-2a74-46d2-e734-5072e5aba651"
      },
      "execution_count": 1,
      "outputs": [
        {
          "output_type": "execute_result",
          "data": {
            "text/plain": [
              "20           Doutorado\n",
              "15            Mestrado\n",
              "85      Especialização\n",
              "145          Graduação\n",
              "320    Cursos Técnicos\n",
              "dtype: object"
            ],
            "text/html": [
              "<div>\n",
              "<style scoped>\n",
              "    .dataframe tbody tr th:only-of-type {\n",
              "        vertical-align: middle;\n",
              "    }\n",
              "\n",
              "    .dataframe tbody tr th {\n",
              "        vertical-align: top;\n",
              "    }\n",
              "\n",
              "    .dataframe thead th {\n",
              "        text-align: right;\n",
              "    }\n",
              "</style>\n",
              "<table border=\"1\" class=\"dataframe\">\n",
              "  <thead>\n",
              "    <tr style=\"text-align: right;\">\n",
              "      <th></th>\n",
              "      <th>0</th>\n",
              "    </tr>\n",
              "  </thead>\n",
              "  <tbody>\n",
              "    <tr>\n",
              "      <th>20</th>\n",
              "      <td>Doutorado</td>\n",
              "    </tr>\n",
              "    <tr>\n",
              "      <th>15</th>\n",
              "      <td>Mestrado</td>\n",
              "    </tr>\n",
              "    <tr>\n",
              "      <th>85</th>\n",
              "      <td>Especialização</td>\n",
              "    </tr>\n",
              "    <tr>\n",
              "      <th>145</th>\n",
              "      <td>Graduação</td>\n",
              "    </tr>\n",
              "    <tr>\n",
              "      <th>320</th>\n",
              "      <td>Cursos Técnicos</td>\n",
              "    </tr>\n",
              "  </tbody>\n",
              "</table>\n",
              "</div><br><label><b>dtype:</b> object</label>"
            ]
          },
          "metadata": {},
          "execution_count": 1
        }
      ]
    },
    {
      "cell_type": "markdown",
      "source": [
        "# 2-) Exibir uma tabela que indique o número de alunos por titulação"
      ],
      "metadata": {
        "id": "YTfLdiD3by56"
      }
    },
    {
      "cell_type": "code",
      "source": [
        "df = pd.DataFrame({'Titulação':['Doutorado', 'Mestrado', 'Especialização',\n",
        "'Graduação', 'Cursos Técnicos'],'Quantidade':[20,15,85,145,320]})\n",
        "df"
      ],
      "metadata": {
        "id": "WCk9gS0Kb1uT"
      },
      "execution_count": null,
      "outputs": []
    },
    {
      "cell_type": "markdown",
      "source": [
        "#3-) Exibir uma tabela que indique as calorias e o percentual de gordura de cada item"
      ],
      "metadata": {
        "id": "Oq3oMNuib3zC"
      }
    },
    {
      "cell_type": "code",
      "source": [
        "df = pd.DataFrame({'calorias':[200, 350, 550], 'gordura (%)':[0, 15, 35]},\n",
        "index=['banana', 'macarrão', 'cachorro quente'])\n",
        "df"
      ],
      "metadata": {
        "id": "qcabRMx8b7rC"
      },
      "execution_count": null,
      "outputs": []
    },
    {
      "cell_type": "markdown",
      "source": [
        "#4-) Criar uma matriz com 50 elementos e 03 dimensões.\n"
      ],
      "metadata": {
        "id": "tFVeApsIb-7M"
      }
    },
    {
      "cell_type": "code",
      "source": [
        "v = np.array(range(50)).reshape(2,5,5)\n",
        "print('Shape = ', v.shape)\n",
        "print('Número de dimensões = ', v.ndim)\n",
        "print('Número de elementos = ', v.size)\n",
        "print('Tensor v = \\n', v)"
      ],
      "metadata": {
        "id": "I9mop6xycA2K"
      },
      "execution_count": null,
      "outputs": []
    },
    {
      "cell_type": "markdown",
      "source": [
        "#5-) Criar um gráfico pizza com 03 itens destacando um item."
      ],
      "metadata": {
        "id": "CtbudZHScBl0"
      }
    },
    {
      "cell_type": "code",
      "source": [
        "# Definindo variáveis\n",
        "fatias = [8, 12, 10]\n",
        "atividades = ['Lazer', 'Estudo', 'Viagem']\n",
        "colunas = ['r', 'm', 'y']\n",
        "# Criando um gráfico\n",
        "plt.pie(fatias, labels = atividades, colors = colunas, startangle = 90, shadow = True,\n",
        "explode = (0, 0.1, 0))\n",
        "plt.show()"
      ],
      "metadata": {
        "id": "fke-yVxLcFFS"
      },
      "execution_count": null,
      "outputs": []
    },
    {
      "cell_type": "markdown",
      "source": [
        "#6-) Criar um gráfico tipo linha"
      ],
      "metadata": {
        "id": "r7GliVe2cGqy"
      }
    },
    {
      "cell_type": "code",
      "source": [
        "# Definindo variáveis\n",
        "x = [1, 3, 5]\n",
        "y = [1, 2, 5]\n",
        "# Criando um gráfico\n",
        "plt.plot(x, y)\n",
        "# Atribuindo um título ao gráfico\n",
        "plt.title('Exemplo utilizando Plot')\n",
        "plt.xlabel('Variavel 1')\n",
        "plt.ylabel('Variavel 2')\n",
        "# Atribuindo uma legenda\n",
        "plt.plot(x, y, label = 'Uma legenda')\n",
        "plt.legend()\n",
        "# Exibindo o gráfico gerado\n",
        "plt.show()"
      ],
      "metadata": {
        "id": "pfOJMu1xcHSa"
      },
      "execution_count": null,
      "outputs": []
    },
    {
      "cell_type": "markdown",
      "source": [
        "#7-) Criar um gráfico com pontos em formato de estrela."
      ],
      "metadata": {
        "id": "J3XWllAncMNr"
      }
    },
    {
      "cell_type": "code",
      "source": [
        "# Definindo variáveis\n",
        "x = [1, 2, 3, 4, 5, 6, 7, 8]\n",
        "y = [5, 2, 4, 5, 6, 8, 4, 8]\n",
        "# Criando um gráfico\n",
        "plt.scatter(x, y, label = 'Pontos', color = 'b', marker = '*', s = 100)\n",
        "plt.legend()\n",
        "plt.show()"
      ],
      "metadata": {
        "id": "2p2K_T7EcOqq"
      },
      "execution_count": null,
      "outputs": []
    }
  ]
}